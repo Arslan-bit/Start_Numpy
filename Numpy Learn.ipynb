{
 "cells": [
  {
   "cell_type": "markdown",
   "metadata": {},
   "source": [
    "# Numpy Learn"
   ]
  },
  {
   "cell_type": "code",
   "execution_count": 1,
   "metadata": {},
   "outputs": [],
   "source": [
    "import numpy as np\n"
   ]
  },
  {
   "cell_type": "code",
   "execution_count": 2,
   "metadata": {},
   "outputs": [
    {
     "name": "stdout",
     "output_type": "stream",
     "text": [
      "[[ 3 54  5  5]]\n",
      "54\n"
     ]
    }
   ],
   "source": [
    "a=[3,54,5,5,]\n",
    "data = np.array([a])\n",
    "print(data)\n",
    "print(data[0,1])"
   ]
  },
  {
   "cell_type": "code",
   "execution_count": 3,
   "metadata": {},
   "outputs": [
    {
     "data": {
      "text/plain": [
       "(1, 4)"
      ]
     },
     "execution_count": 3,
     "metadata": {},
     "output_type": "execute_result"
    }
   ],
   "source": [
    "# chack shape\n",
    "data.shape "
   ]
  },
  {
   "cell_type": "code",
   "execution_count": 4,
   "metadata": {},
   "outputs": [
    {
     "data": {
      "text/plain": [
       "dtype('int32')"
      ]
     },
     "execution_count": 4,
     "metadata": {},
     "output_type": "execute_result"
    }
   ],
   "source": [
    "# chack type\n",
    "data.dtype"
   ]
  },
  {
   "cell_type": "code",
   "execution_count": 5,
   "metadata": {},
   "outputs": [
    {
     "name": "stdout",
     "output_type": "stream",
     "text": [
      "[[0. 0. 0. 0. 0. 0. 0. 0. 0. 0.]\n",
      " [0. 0. 0. 0. 0. 0. 0. 0. 0. 0.]\n",
      " [0. 0. 0. 0. 0. 0. 0. 0. 0. 0.]\n",
      " [0. 0. 0. 0. 0. 0. 0. 0. 0. 0.]\n",
      " [0. 0. 0. 0. 0. 0. 0. 0. 0. 0.]]\n",
      "float64\n"
     ]
    },
    {
     "data": {
      "text/plain": [
       "(5, 10)"
      ]
     },
     "execution_count": 5,
     "metadata": {},
     "output_type": "execute_result"
    }
   ],
   "source": [
    "# create zeroes Matrix\n",
    "\n",
    "ZM = np.zeros((5,10))\n",
    "print(ZM)\n",
    "print(ZM.dtype)\n",
    "# print(ZM[1,6])\n",
    "ZM.shape"
   ]
  },
  {
   "cell_type": "code",
   "execution_count": 6,
   "metadata": {},
   "outputs": [
    {
     "data": {
      "text/plain": [
       "array([ 0,  1,  2,  3,  4,  5,  6,  7,  8,  9, 10, 11, 12, 13, 14, 15])"
      ]
     },
     "execution_count": 6,
     "metadata": {},
     "output_type": "execute_result"
    }
   ],
   "source": [
    "# create the np list With auto arange\n",
    "AM = np.arange(16)\n",
    "AM"
   ]
  },
  {
   "cell_type": "code",
   "execution_count": 7,
   "metadata": {},
   "outputs": [
    {
     "data": {
      "text/plain": [
       "array([ 1.  ,  5.75, 10.5 , 15.25, 20.  ])"
      ]
     },
     "execution_count": 7,
     "metadata": {},
     "output_type": "execute_result"
    }
   ],
   "source": [
    "# Create linearly space list \n",
    "LS = np.linspace(1,20,5)\n",
    "LS"
   ]
  },
  {
   "cell_type": "code",
   "execution_count": 8,
   "metadata": {},
   "outputs": [
    {
     "name": "stdout",
     "output_type": "stream",
     "text": [
      "[[ 0.00000000e+000  0.00000000e+000  0.00000000e+000  0.00000000e+000\n",
      "   0.00000000e+000  0.00000000e+000  0.00000000e+000  0.00000000e+000\n",
      "   0.00000000e+000 -1.14084259e-310]\n",
      " [ 3.16202013e-322  9.61026157e-312  9.61026158e-312  7.90505033e-323\n",
      "   8.48798316e-314              nan  3.23625578e-310  7.90505033e-323\n",
      "   6.67462976e-067  0.00000000e+000]]\n",
      "(2, 10)\n"
     ]
    }
   ],
   "source": [
    "# create randem Matrix.\n",
    "emp = np.empty((2,10))\n",
    "print(emp)\n",
    "print(emp.shape)"
   ]
  },
  {
   "cell_type": "code",
   "execution_count": 9,
   "metadata": {},
   "outputs": [
    {
     "data": {
      "text/plain": [
       "array([[3.56043053e-307, 1.60219306e-306, 7.56571288e-307,\n",
       "        1.89146896e-307, 1.37961302e-306, 1.05699242e-307,\n",
       "        8.01097889e-307, 1.78020169e-306, 7.56601165e-307,\n",
       "        1.02359984e-306],\n",
       "       [1.33510679e-306, 2.22522597e-306, 1.33511018e-306,\n",
       "        6.23057689e-307, 1.29061821e-306, 8.34449382e-308,\n",
       "        1.33508761e-307, 1.33511562e-306, 8.90103560e-307,\n",
       "        1.42410974e-306]])"
      ]
     },
     "execution_count": 9,
     "metadata": {},
     "output_type": "execute_result"
    }
   ],
   "source": [
    "# create the copy of an Matrix & List\n",
    "EL= np.empty_like(emp)\n",
    "EL"
   ]
  },
  {
   "cell_type": "code",
   "execution_count": 10,
   "metadata": {},
   "outputs": [
    {
     "data": {
      "text/plain": [
       "array([[1., 0., 0., 0., 0., 0.],\n",
       "       [0., 1., 0., 0., 0., 0.],\n",
       "       [0., 0., 1., 0., 0., 0.],\n",
       "       [0., 0., 0., 1., 0., 0.],\n",
       "       [0., 0., 0., 0., 1., 0.],\n",
       "       [0., 0., 0., 0., 0., 1.]])"
      ]
     },
     "execution_count": 10,
     "metadata": {},
     "output_type": "execute_result"
    }
   ],
   "source": [
    "# Create an identity or MAtrix like (2x2 ,3x3, 4x4,....)\n",
    "ID = np.identity(6)\n",
    "ID"
   ]
  },
  {
   "cell_type": "code",
   "execution_count": 14,
   "metadata": {},
   "outputs": [
    {
     "name": "stdout",
     "output_type": "stream",
     "text": [
      "(50,)\n",
      "[ 2  3  4  5  6  7  8  9 10 11 12 13 14 15 16 17 18 19 20 21 22 23 24 25\n",
      " 26 27 28 29 30 31 32 33 34 35 36 37 38 39 40 41 42 43 44 45 46 47 48 49\n",
      " 50 51]  \n",
      "List\n",
      "\n",
      "(5, 10)\n",
      "[[ 2  3  4  5  6  7  8  9 10 11]\n",
      " [12 13 14 15 16 17 18 19 20 21]\n",
      " [22 23 24 25 26 27 28 29 30 31]\n",
      " [32 33 34 35 36 37 38 39 40 41]\n",
      " [42 43 44 45 46 47 48 49 50 51]]  \n",
      "Into MAtrix\n",
      " \n",
      "(50,)\n",
      "[ 2  3  4  5  6  7  8  9 10 11 12 13 14 15 16 17 18 19 20 21 22 23 24 25\n",
      " 26 27 28 29 30 31 32 33 34 35 36 37 38 39 40 41 42 43 44 45 46 47 48 49\n",
      " 50 51]  \n",
      "Into List\n",
      "\n"
     ]
    }
   ],
   "source": [
    "# List in to MAtrix trick & Matrix into list\n",
    "List = np.arange(2,52)\n",
    "print(List.shape)\n",
    "print(List,' \\nList\\n')\n",
    "\n",
    "\n",
    "Matrix = List.reshape(5,10)\n",
    "print(Matrix.shape)\n",
    "print(Matrix,' \\nInto MAtrix\\n ')\n",
    "\n",
    "ravel = Matrix.ravel()\n",
    "print(ravel.shape)\n",
    "print(ravel,' \\nInto List\\n')\n"
   ]
  },
  {
   "cell_type": "code",
   "execution_count": 15,
   "metadata": {},
   "outputs": [
    {
     "name": "stdout",
     "output_type": "stream",
     "text": [
      "[[1 2 3]\n",
      " [4 5 6]\n",
      " [0 4 1]] \n",
      "\n",
      "[ 5 11 10] \n",
      "\n",
      "[ 6 15  5] \n",
      "\n"
     ]
    }
   ],
   "source": [
    "# Sum of the All Rows And Columns (axis)\n",
    "Mat = [[1,2,3],[4,5,6],[0,4,1]]\n",
    "\n",
    "a = np.array(Mat)\n",
    "print(a,'\\n')\n",
    "\n",
    "axisR = a.sum(axis = 0)\n",
    "print(axisR,'\\n')\n",
    "\n",
    "axisC = a.sum(axis = 1)\n",
    "print(axisC,'\\n')\n"
   ]
  },
  {
   "cell_type": "code",
   "execution_count": 16,
   "metadata": {},
   "outputs": [
    {
     "name": "stdout",
     "output_type": "stream",
     "text": [
      "[[1 2 3]\n",
      " [4 5 6]\n",
      " [0 4 1]] \n",
      "\n",
      "[[1 4 0]\n",
      " [2 5 4]\n",
      " [3 6 1]]\n"
     ]
    }
   ],
   "source": [
    "# Transpose of the matrix\n",
    "t = a.T\n",
    "print(a,\"\\n\")\n",
    "print(t)"
   ]
  },
  {
   "cell_type": "code",
   "execution_count": 17,
   "metadata": {},
   "outputs": [
    {
     "name": "stdout",
     "output_type": "stream",
     "text": [
      "2\n"
     ]
    }
   ],
   "source": [
    "# chack dimension of the matrix\n",
    "print(a.ndim)\n"
   ]
  },
  {
   "cell_type": "code",
   "execution_count": 18,
   "metadata": {},
   "outputs": [
    {
     "name": "stdout",
     "output_type": "stream",
     "text": [
      "<numpy.flatiter object at 0x000001C4E35B8C10>\n",
      "1\n",
      "4\n",
      "0\n",
      "2\n",
      "5\n",
      "4\n",
      "3\n",
      "6\n",
      "1\n"
     ]
    }
   ],
   "source": [
    "# print all the numbers of matrix indugly \n",
    "ind  = t.flat\n",
    "print(ind)\n",
    "\n",
    "for items in ind:\n",
    "    print(items)"
   ]
  },
  {
   "cell_type": "code",
   "execution_count": 19,
   "metadata": {},
   "outputs": [
    {
     "name": "stdout",
     "output_type": "stream",
     "text": [
      "50\n"
     ]
    }
   ],
   "source": [
    "# Find allnumbers of RxC in matrix or List\n",
    "print(ZM.size)"
   ]
  },
  {
   "cell_type": "code",
   "execution_count": 20,
   "metadata": {},
   "outputs": [
    {
     "name": "stdout",
     "output_type": "stream",
     "text": [
      "400\n"
     ]
    }
   ],
   "source": [
    "# chack the bytes\n",
    "print(ZM.nbytes)"
   ]
  },
  {
   "cell_type": "code",
   "execution_count": 21,
   "metadata": {},
   "outputs": [
    {
     "name": "stdout",
     "output_type": "stream",
     "text": [
      "[4 6 1 4 7 0 3 2]\n",
      "4 : index \n",
      "\n",
      "7 : index value \n",
      "[4 6 1 4 7 0 3 2]\n",
      "5 : index \n",
      "\n",
      "0 : index value \n"
     ]
    }
   ],
   "source": [
    "# Fint max number in list\n",
    "aa  = np.array([4,6,1,4,7,0,3,2])\n",
    "bb = aa.argmax()\n",
    "print (aa)\n",
    "print(bb,': index \\n')\n",
    "print(aa[bb], ': index value ')\n",
    "\n",
    "# Fint min number in list\n",
    "bb = aa.argmin()\n",
    "print (aa)\n",
    "print(bb,': index \\n')\n",
    "print(aa[bb], ': index value ')"
   ]
  },
  {
   "cell_type": "code",
   "execution_count": 22,
   "metadata": {},
   "outputs": [
    {
     "name": "stdout",
     "output_type": "stream",
     "text": [
      "[[1 2 3]\n",
      " [4 5 6]\n",
      " [0 4 1]]\n",
      "6 : index \n",
      "\n",
      "5 : index \n",
      "\n"
     ]
    }
   ],
   "source": [
    "# Fint min number in Matrix\n",
    "print (a)\n",
    "# print(a[1][1])\n",
    "MM=a.argmin()\n",
    "\n",
    "print(MM,': index \\n')\n",
    "# print(a([1][MM]), ': index value ')\n",
    "\n",
    "# Fint mix number in Matrix\n",
    "\n",
    "MN=a.argmax()\n",
    "\n",
    "print(MN,': index \\n')\n",
    "\n",
    "\n",
    "\n",
    "\n"
   ]
  },
  {
   "cell_type": "code",
   "execution_count": 23,
   "metadata": {},
   "outputs": [
    {
     "name": "stdout",
     "output_type": "stream",
     "text": [
      "[[1 2 3]\n",
      " [4 5 6]\n",
      " [0 4 1]]\n",
      "[2 0 2] : index R \n",
      "\n",
      "[0 0 0] : index C \n",
      "\n",
      "[1 1 1] : index R \n",
      "\n",
      "[2 2 1] : index C \n",
      "\n"
     ]
    }
   ],
   "source": [
    "\n",
    "# Fint min number in Matrix with axes\n",
    "print(a)\n",
    "\n",
    "MA=a.argmin(axis = 0)\n",
    "\n",
    "print(MA,': index R \\n')\n",
    "\n",
    "MNA=a.argmin(axis = 1)\n",
    "\n",
    "print(MNA,': index C \\n')\n",
    "\n",
    "\n",
    "# Fint max number in Matrix with axes\n",
    "\n",
    "MA=a.argmax(axis = 0)\n",
    "\n",
    "print(MA,': index R \\n')\n",
    "\n",
    "MNA=a.argmax(axis = 1)\n",
    "\n",
    "print(MNA,': index C \\n')\n",
    "\n"
   ]
  },
  {
   "cell_type": "code",
   "execution_count": 30,
   "metadata": {},
   "outputs": [
    {
     "name": "stdout",
     "output_type": "stream",
     "text": [
      "[[1 2 3]\n",
      " [4 5 6]\n",
      " [0 4 1]]\n",
      "<built-in method flatten of numpy.ndarray object at 0x000001C4E3EE5F30>\n",
      "sort index values Row-wise\n",
      " [[2 0 2]\n",
      " [0 2 0]\n",
      " [1 1 1]]\n",
      "sort index values column-wise\n",
      " [[0 1 2]\n",
      " [0 1 2]\n",
      " [0 2 1]]\n"
     ]
    }
   ],
   "source": [
    "# sort the row-wise values and show the indexs\n",
    "\n",
    "print(a)\n",
    "sar = a.argsort(axis = 0)\n",
    "print('sort index values Row-wise\\n',sar)\n",
    "\n",
    "\n",
    "sac = a.argsort(axis = 1)\n",
    "print('sort index values column-wise\\n',sac)"
   ]
  },
  {
   "cell_type": "code",
   "execution_count": null,
   "metadata": {},
   "outputs": [],
   "source": []
  }
 ],
 "metadata": {
  "kernelspec": {
   "display_name": "Python 3",
   "language": "python",
   "name": "python3"
  },
  "language_info": {
   "codemirror_mode": {
    "name": "ipython",
    "version": 3
   },
   "file_extension": ".py",
   "mimetype": "text/x-python",
   "name": "python",
   "nbconvert_exporter": "python",
   "pygments_lexer": "ipython3",
   "version": "3.8.5"
  }
 },
 "nbformat": 4,
 "nbformat_minor": 4
}
